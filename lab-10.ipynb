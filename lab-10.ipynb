{
 "cells": [
  {
   "cell_type": "code",
   "execution_count": 1,
   "id": "f1d658f1",
   "metadata": {
    "execution": {
     "iopub.execute_input": "2023-11-08T06:17:29.400583Z",
     "iopub.status.busy": "2023-11-08T06:17:29.399721Z",
     "iopub.status.idle": "2023-11-08T06:17:29.786161Z",
     "shell.execute_reply": "2023-11-08T06:17:29.784852Z"
    },
    "papermill": {
     "duration": 0.394198,
     "end_time": "2023-11-08T06:17:29.788908",
     "exception": false,
     "start_time": "2023-11-08T06:17:29.394710",
     "status": "completed"
    },
    "tags": []
   },
   "outputs": [
    {
     "name": "stdout",
     "output_type": "stream",
     "text": [
      "Before Removing Missing Values \n",
      "        name            toy       born\n",
      "0   Superman            NaN        NaT\n",
      "1     Batman      Batmobile 1956-06-26\n",
      "2  Spiderman  Spiderman toy        NaT\n",
      "\n",
      "After Removing Missing Values \n",
      "     name        toy       born\n",
      "1  Batman  Batmobile 1956-06-26\n"
     ]
    }
   ],
   "source": [
    "# Bhargav Gohel\n",
    "# 216270307013\n",
    "\n",
    "# Pr - 10.1\n",
    "import pandas as pd\n",
    "import numpy as np\n",
    "\n",
    "# Dictionary\n",
    "dict = {\"name\": ['Superman', 'Batman', 'Spiderman'],\n",
    "                   \"toy\": [np.nan, 'Batmobile', 'Spiderman toy'],\n",
    "                   \"born\": [pd.NaT, pd.Timestamp(\"1956-06-26\"),\n",
    "                            pd.NaT] }\n",
    "\n",
    "# Converting into DataFrame\n",
    "df = pd.DataFrame(dict)\n",
    "\n",
    "# Before Remove Missing values\n",
    "print(\"Before Removing Missing Values \")\n",
    "print(df)\n",
    "\n",
    "# After Removing Missing Values\n",
    "print(\"\\nAfter Removing Missing Values \")\n",
    "print(df.dropna())"
   ]
  },
  {
   "cell_type": "code",
   "execution_count": 2,
   "id": "83ff3344",
   "metadata": {
    "execution": {
     "iopub.execute_input": "2023-11-08T06:17:29.796586Z",
     "iopub.status.busy": "2023-11-08T06:17:29.796091Z",
     "iopub.status.idle": "2023-11-08T06:17:29.818623Z",
     "shell.execute_reply": "2023-11-08T06:17:29.817630Z"
    },
    "papermill": {
     "duration": 0.02986,
     "end_time": "2023-11-08T06:17:29.820946",
     "exception": false,
     "start_time": "2023-11-08T06:17:29.791086",
     "status": "completed"
    },
    "tags": []
   },
   "outputs": [
    {
     "name": "stdout",
     "output_type": "stream",
     "text": [
      "Before Removing Duplicate Values \n",
      "      Name    ID\n",
      "0     Jhon  12.0\n",
      "1     Jhon  12.0\n",
      "2      NaN  30.0\n",
      "3  Micheal  40.0\n",
      "4  Micheal   NaN\n",
      "\n",
      "After Removing Duplicate Values \n",
      "      Name    ID\n",
      "0     Jhon  12.0\n",
      "2      NaN  30.0\n",
      "3  Micheal  40.0\n",
      "4  Micheal   NaN\n"
     ]
    }
   ],
   "source": [
    "# Bhargav Gohel\n",
    "# 216270307013\n",
    "\n",
    "# PR - 10.2\n",
    "import pandas as pd\n",
    "import numpy as np\n",
    "\n",
    "# Dictionary\n",
    "dict = { 'Name' : ['Jhon','Jhon',np.nan,'Micheal','Micheal'],\n",
    "         'ID' : [12,12,30,40,np.nan] }\n",
    "\n",
    "# Converting into DataFrame\n",
    "df = pd.DataFrame(dict)\n",
    "\n",
    "# Before Remove Missing values\n",
    "print(\"Before Removing Duplicate Values \")\n",
    "print(df)\n",
    "\n",
    "# After Removing Missing Values\n",
    "print(\"\\nAfter Removing Duplicate Values \")\n",
    "print(df.drop_duplicates())"
   ]
  }
 ],
 "metadata": {
  "kernelspec": {
   "display_name": "Python 3",
   "language": "python",
   "name": "python3"
  },
  "language_info": {
   "codemirror_mode": {
    "name": "ipython",
    "version": 3
   },
   "file_extension": ".py",
   "mimetype": "text/x-python",
   "name": "python",
   "nbconvert_exporter": "python",
   "pygments_lexer": "ipython3",
   "version": "3.10.12"
  },
  "papermill": {
   "default_parameters": {},
   "duration": 4.05989,
   "end_time": "2023-11-08T06:17:30.242692",
   "environment_variables": {},
   "exception": null,
   "input_path": "__notebook__.ipynb",
   "output_path": "__notebook__.ipynb",
   "parameters": {},
   "start_time": "2023-11-08T06:17:26.182802",
   "version": "2.4.0"
  }
 },
 "nbformat": 4,
 "nbformat_minor": 5
}
